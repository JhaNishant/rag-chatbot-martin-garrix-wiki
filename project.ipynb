{
 "cells": [
  {
   "cell_type": "markdown",
   "id": "124e5672",
   "metadata": {},
   "source": [
    "# Custom Chatbot Project"
   ]
  },
  {
   "cell_type": "markdown",
   "id": "bb3b6455",
   "metadata": {},
   "source": [
    "For this project, I decided to use the Wikipedia article on Martin Garrix, a Dutch DJ and music producer, as my dataset. Since I personally enjoy music (especially EDM), I thought building a chatbot around an artist I like would be both interesting and fun.\n",
    "\n",
    "While regular chatbots usually do fine answering general questions about famous people, they often miss out on specific details like early career moments, exact release dates, or event-related facts. Even advanced models that use online searches don't always guarantee accuracy, since they rely heavily on external sources. By choosing a targeted dataset from Wikipedia, I hope my chatbot will deliver more precise and detailed answers about Martin Garrix, making it particularly useful for music fans."
   ]
  },
  {
   "cell_type": "markdown",
   "id": "a63d4c5f",
   "metadata": {},
   "source": [
    "## Data Wrangling"
   ]
  },
  {
   "cell_type": "code",
   "execution_count": 1,
   "id": "c69b83a1",
   "metadata": {},
   "outputs": [
    {
     "data": {
      "text/html": [
       "<div>\n",
       "<style scoped>\n",
       "    .dataframe tbody tr th:only-of-type {\n",
       "        vertical-align: middle;\n",
       "    }\n",
       "\n",
       "    .dataframe tbody tr th {\n",
       "        vertical-align: top;\n",
       "    }\n",
       "\n",
       "    .dataframe thead th {\n",
       "        text-align: right;\n",
       "    }\n",
       "</style>\n",
       "<table border=\"1\" class=\"dataframe\">\n",
       "  <thead>\n",
       "    <tr style=\"text-align: right;\">\n",
       "      <th></th>\n",
       "      <th>text</th>\n",
       "    </tr>\n",
       "  </thead>\n",
       "  <tbody>\n",
       "    <tr>\n",
       "      <th>0</th>\n",
       "      <td>Martijn Gerard Garritsen (Dutch pronunciation:...</td>\n",
       "    </tr>\n",
       "    <tr>\n",
       "      <th>1</th>\n",
       "      <td>Garrix has performed at music festivals such a...</td>\n",
       "    </tr>\n",
       "    <tr>\n",
       "      <th>2</th>\n",
       "      <td>== Early life ==</td>\n",
       "    </tr>\n",
       "    <tr>\n",
       "      <th>3</th>\n",
       "      <td>Garrix was born as Martijn Gerard Garritsen on...</td>\n",
       "    </tr>\n",
       "    <tr>\n",
       "      <th>4</th>\n",
       "      <td>In 2004, he expressed interest in becoming a D...</td>\n",
       "    </tr>\n",
       "  </tbody>\n",
       "</table>\n",
       "</div>"
      ],
      "text/plain": [
       "                                                text\n",
       "0  Martijn Gerard Garritsen (Dutch pronunciation:...\n",
       "1  Garrix has performed at music festivals such a...\n",
       "2                                   == Early life ==\n",
       "3  Garrix was born as Martijn Gerard Garritsen on...\n",
       "4  In 2004, he expressed interest in becoming a D..."
      ]
     },
     "execution_count": 1,
     "metadata": {},
     "output_type": "execute_result"
    }
   ],
   "source": [
    "import requests\n",
    "import pandas as pd\n",
    "\n",
    "def get_wikipedia_article(title):\n",
    "    \"\"\"\n",
    "    Fetches the plain text content of a Wikipedia article by title.\n",
    "    \"\"\"\n",
    "    url = \"https://en.wikipedia.org/w/api.php\"\n",
    "    params = {\n",
    "        \"action\": \"query\",\n",
    "        \"prop\": \"extracts\",\n",
    "        \"explaintext\": True,\n",
    "        \"titles\": title,\n",
    "        \"format\": \"json\",\n",
    "    }\n",
    "\n",
    "    response = requests.get(url, params=params)\n",
    "    data = response.json()\n",
    "\n",
    "    page = next(iter(data[\"query\"][\"pages\"].values()))\n",
    "    return page[\"extract\"]\n",
    "\n",
    "# Fetch article text for Martin Garrix\n",
    "article_text = get_wikipedia_article(\"Martin Garrix\")\n",
    "\n",
    "# Split the article into chunks (one per paragraph)\n",
    "paragraphs = [p.strip() for p in article_text.split(\"\\n\") if p.strip()]\n",
    "\n",
    "# Create DataFrame with \"text\" column\n",
    "df = pd.DataFrame(paragraphs, columns=[\"text\"])\n",
    "\n",
    "# Show first few rows\n",
    "df.head()\n"
   ]
  },
  {
   "cell_type": "code",
   "execution_count": 2,
   "id": "0a595980",
   "metadata": {},
   "outputs": [],
   "source": [
    "# Save the data in csv format\n",
    "df.to_csv(\"data/martin_garrix_wiki.csv\", index=False)"
   ]
  },
  {
   "cell_type": "markdown",
   "id": "ae769871",
   "metadata": {},
   "source": [
    "## Custom Query Completion"
   ]
  },
  {
   "cell_type": "markdown",
   "id": "8349057b",
   "metadata": {},
   "source": [
    "In this part of the project, I set up the logic for sending custom queries to the OpenAI Completion model using the Martin Garrix Wikipedia article as additional context. The idea is to help the chatbot give answers that are more accurate and relevant to specific questions about the artist.\n",
    "\n",
    "I configured OpenAI to use Vocareum’s API endpoint, as instructed by Udacity. Then, I created two simple functions:\n",
    "\n",
    "- One that sends basic queries without extra context.\n",
    "\n",
    "- Another that pairs user questions with relevant parts of the article to improve responses.\n",
    "\n",
    "This approach lets me easily compare how the model performs on its own versus when it's supported by extra information from the dataset."
   ]
  },
  {
   "cell_type": "code",
   "execution_count": 3,
   "id": "582f0656",
   "metadata": {},
   "outputs": [],
   "source": [
    "# Configure OpenAI for Vocareum environment\n",
    "import openai\n",
    "openai.api_base = \"https://openai.vocareum.com/v1\"\n",
    "openai.api_key = \"voc-xxxx\""
   ]
  },
  {
   "cell_type": "code",
   "execution_count": 4,
   "id": "8b6e1f75",
   "metadata": {},
   "outputs": [],
   "source": [
    "def basic_query(question):\n",
    "    # Sends the question directly to the model without extra context\n",
    "    response = openai.Completion.create(\n",
    "        engine=\"gpt-3.5-turbo-instruct\",\n",
    "        prompt=question,\n",
    "        temperature=0.7,\n",
    "        max_tokens=200\n",
    "    )\n",
    "    return response.choices[0].text.strip()"
   ]
  },
  {
   "cell_type": "code",
   "execution_count": 5,
   "id": "13f2dcd7",
   "metadata": {},
   "outputs": [],
   "source": [
    "def custom_query(question, context_df):\n",
    "    # Combine all text rows into one context string\n",
    "    # Use only the first 50 rows to stay within token limits\n",
    "    context = \"\\n\".join(context_df[\"text\"].head(50).tolist())\n",
    "    \n",
    "    # Insert context into the prompt\n",
    "    prompt = f\"Answer the question based on the following text:\\n\\n{context}\\n\\nQuestion: {question}\\nAnswer:\"\n",
    "    \n",
    "    response = openai.Completion.create(\n",
    "        engine=\"gpt-3.5-turbo-instruct\",\n",
    "        prompt=prompt,\n",
    "        temperature=0.7,\n",
    "        max_tokens=200\n",
    "    )\n",
    "    return response.choices[0].text.strip()"
   ]
  },
  {
   "cell_type": "markdown",
   "id": "1783f146",
   "metadata": {},
   "source": [
    "## Custom Performance Demonstration"
   ]
  },
  {
   "cell_type": "markdown",
   "id": "7e89697f",
   "metadata": {},
   "source": [
    "Below are two sample questions about Martin Garrix. For each question, I show two different responses from the model:\n",
    "\n",
    "- Basic Query: The model answers without any extra information.\n",
    "\n",
    "- Custom Query: The same question, but with details from the Wikipedia article provided for context.\n",
    "\n",
    "This helps illustrate how the responses improve when the model has access to more relevant background information."
   ]
  },
  {
   "cell_type": "code",
   "execution_count": 6,
   "id": "d4cc5c4c",
   "metadata": {},
   "outputs": [],
   "source": [
    "q1 = \"Which artists has Martin Garrix collaborated with?\"\n",
    "q2 = \"Which is the latest award Martin Garrix has received?\""
   ]
  },
  {
   "cell_type": "markdown",
   "id": "4f11fdc0",
   "metadata": {},
   "source": [
    "### Question 1"
   ]
  },
  {
   "cell_type": "code",
   "execution_count": 7,
   "id": "4901c850",
   "metadata": {},
   "outputs": [
    {
     "name": "stdout",
     "output_type": "stream",
     "text": [
      "Q1: Which artists has Martin Garrix collaborated with?\n",
      "\n",
      "Basic Answer:\n",
      "Martin Garrix has collaborated with a variety of artists, including Bebe Rexha, Dua Lipa, Khalid, David Guetta, Troye Sivan, and Usher. He has also collaborated with other EDM artists such as Tiësto, Dimitri Vegas & Like Mike, and Hardwell.\n",
      "\n",
      "Custom Answer:\n",
      "Martin Garrix has collaborated with a variety of artists, including Julian Jordan, TV Noise, Jay Hardway, Sander Van Doorn, Dimitri Vegas & Like Mike, Firebeatz, Dillon Francis, Hardwell, Afrojack, MOTi, Ed Sheeran, Bebe Rexha, Third Party, Linkin Park, Area21, Matisse and Sadko, Troye Sivan, David Guetta, Ellie Goulding, Romy Dya, Jamie Scott, Brooks, Loopers, Khalid, Bonn, CMC$, Icona Pop, Justin Mylo, Dewain Whitmore Jr., Dyro, Pierce Fulton, and Mike Shinoda.\n"
     ]
    }
   ],
   "source": [
    "print(\"Q1:\", q1)\n",
    "\n",
    "print(\"\\nBasic Answer:\")\n",
    "print(basic_query(q1))\n",
    "\n",
    "print(\"\\nCustom Answer:\")\n",
    "print(custom_query(q1, df))"
   ]
  },
  {
   "cell_type": "markdown",
   "id": "1ef7d5f5",
   "metadata": {},
   "source": [
    "The basic model gave a general list of popular artists Martin Garrix has worked with. Although correct, it was quite limited. However, when the model used the Wikipedia article as context, it returned a more detailed list of collaborations, including less-famous artists and specific mentions from Garrix’s career. This clearly shows how providing additional context can significantly improve the quality of responses."
   ]
  },
  {
   "cell_type": "markdown",
   "id": "6e86e37c",
   "metadata": {},
   "source": [
    "### Question 2"
   ]
  },
  {
   "cell_type": "code",
   "execution_count": 8,
   "id": "6f646989",
   "metadata": {},
   "outputs": [
    {
     "name": "stdout",
     "output_type": "stream",
     "text": [
      "Q2: Which is the latest award Martin Garrix has received?\n",
      "\n",
      "Basic Answer:\n",
      "The latest award Martin Garrix has received is the 2021 DJ Mag Top 100 DJs award, for the fourth consecutive year.\n",
      "\n",
      "Custom Answer:\n",
      "The latest award Martin Garrix has received is being ranked number one on DJ Mag's annual Top 100 DJs list in October 2018.\n"
     ]
    }
   ],
   "source": [
    "print(\"Q2:\", q2)\n",
    "\n",
    "print(\"\\nBasic Answer:\")\n",
    "print(basic_query(q2))\n",
    "\n",
    "print(\"\\nCustom Answer:\")\n",
    "print(custom_query(q2, df))"
   ]
  },
  {
   "cell_type": "markdown",
   "id": "327ee146",
   "metadata": {},
   "source": [
    "The basic model actually gave a more current answer (relatively), correctly identifying Martin Garrix’s latest DJ Mag Top 100 DJs award from 2020. The custom model, however, incorrectly cited 2018 as the most recent award. When I checked, I realised the Wikipedia article I provided didn't list all his awards—it linked to another page for that. Because of this, the custom query performed worse, as the model could only answer based on the partial information it was given.\n",
    "\n",
    "This highlights an important limitation when using custom datasets: if critical details are incomplete or stored elsewhere, the model can't access them, reducing its accuracy. Effective retrieval-based answers depend heavily on having complete, easily accessible data."
   ]
  },
  {
   "cell_type": "markdown",
   "id": "8206cded",
   "metadata": {},
   "source": [
    "## Conclusion"
   ]
  },
  {
   "cell_type": "markdown",
   "id": "9de98a8a",
   "metadata": {},
   "source": [
    "Through this project, I explored how customising a chatbot with specific data, like the Wikipedia article about Martin Garrix, can lead to better and more relevant answers. In the first example, the custom model clearly outperformed the basic one by offering a richer and more detailed list of collaborators. But in the second example, it missed providing the most recent award information because the dataset lacked certain details.\n",
    "\n",
    "These cases illustrate the trade-off involved when building specialised chatbots: they can greatly enhance performance in specific topics, but depend heavily on how complete, accurate, and current the data is. Ultimately, careful data selection and preparation are just as crucial as crafting effective prompts when developing reliable AI systems."
   ]
  },
  {
   "cell_type": "code",
   "execution_count": null,
   "id": "db49b4fa",
   "metadata": {},
   "outputs": [],
   "source": []
  }
 ],
 "metadata": {
  "kernelspec": {
   "display_name": "Python 3 (ipykernel)",
   "language": "python",
   "name": "python3"
  },
  "language_info": {
   "codemirror_mode": {
    "name": "ipython",
    "version": 3
   },
   "file_extension": ".py",
   "mimetype": "text/x-python",
   "name": "python",
   "nbconvert_exporter": "python",
   "pygments_lexer": "ipython3",
   "version": "3.9.18"
  }
 },
 "nbformat": 4,
 "nbformat_minor": 5
}
